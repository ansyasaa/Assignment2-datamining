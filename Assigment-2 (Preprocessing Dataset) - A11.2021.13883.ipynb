{
 "cells": [
  {
   "cell_type": "code",
   "execution_count": 1,
   "id": "99346a36",
   "metadata": {},
   "outputs": [],
   "source": [
    "import numpy as np\n",
    "import matplotlib.pyplot as plt\n",
    "import pandas as pd"
   ]
  },
  {
   "cell_type": "code",
   "execution_count": 2,
   "id": "7d0ddba9",
   "metadata": {},
   "outputs": [],
   "source": [
    "dataset = pd.read_csv('tahun-2021-s2---jumlah-penduduk-berdasarkan-tingkat-pendidikan.csv')\n",
    "X = dataset.iloc[:, :-1].values\n",
    "y = dataset.iloc[:, -1].values"
   ]
  },
  {
   "cell_type": "code",
   "execution_count": 3,
   "id": "c6b903ee",
   "metadata": {},
   "outputs": [],
   "source": [
    "from sklearn.model_selection import train_test_split\n",
    "X_train, X_test, y_train, y_test = train_test_split(X, y, test_size = 0.2, random_state = 0)"
   ]
  },
  {
   "cell_type": "code",
   "execution_count": 4,
   "id": "fad4ea02",
   "metadata": {},
   "outputs": [],
   "source": [
    "from sklearn.impute import SimpleImputer\n",
    "\n",
    "imputer = SimpleImputer(missing_values=np.nan, strategy='constant')\n",
    "imputer.fit(X[:, 1:3])\n",
    "X[:, 1:3] = imputer.transform(X[:, 1:3])"
   ]
  },
  {
   "cell_type": "code",
   "execution_count": 5,
   "id": "c7b74820",
   "metadata": {},
   "outputs": [
    {
     "data": {
      "text/html": [
       "<div>\n",
       "<style scoped>\n",
       "    .dataframe tbody tr th:only-of-type {\n",
       "        vertical-align: middle;\n",
       "    }\n",
       "\n",
       "    .dataframe tbody tr th {\n",
       "        vertical-align: top;\n",
       "    }\n",
       "\n",
       "    .dataframe thead th {\n",
       "        text-align: right;\n",
       "    }\n",
       "</style>\n",
       "<table border=\"1\" class=\"dataframe\">\n",
       "  <thead>\n",
       "    <tr style=\"text-align: right;\">\n",
       "      <th></th>\n",
       "      <th>Kode Kecamatan</th>\n",
       "      <th>Kecamatan</th>\n",
       "      <th>Kode Kelurahan</th>\n",
       "      <th>Kelurahan</th>\n",
       "      <th>Tidak/Belum Sekolah</th>\n",
       "      <th>Belum Tamat SD</th>\n",
       "      <th>Tamat SD</th>\n",
       "      <th>SLTP</th>\n",
       "      <th>SLTA</th>\n",
       "      <th>D1 dan D2</th>\n",
       "      <th>D3</th>\n",
       "      <th>S1</th>\n",
       "      <th>S2</th>\n",
       "      <th>S3</th>\n",
       "    </tr>\n",
       "  </thead>\n",
       "  <tbody>\n",
       "    <tr>\n",
       "      <th>0</th>\n",
       "      <td>32.73.01</td>\n",
       "      <td>Sukasari</td>\n",
       "      <td>32.73.01.1001</td>\n",
       "      <td>Sukarasa</td>\n",
       "      <td>2275</td>\n",
       "      <td>1173</td>\n",
       "      <td>1900</td>\n",
       "      <td>1648</td>\n",
       "      <td>3735</td>\n",
       "      <td>108</td>\n",
       "      <td>469</td>\n",
       "      <td>1633</td>\n",
       "      <td>288</td>\n",
       "      <td>43</td>\n",
       "    </tr>\n",
       "    <tr>\n",
       "      <th>1</th>\n",
       "      <td>32.73.01</td>\n",
       "      <td>Sukasari</td>\n",
       "      <td>32.73.01.1002</td>\n",
       "      <td>Gegerkalong</td>\n",
       "      <td>3850</td>\n",
       "      <td>2038</td>\n",
       "      <td>2068</td>\n",
       "      <td>2450</td>\n",
       "      <td>6924</td>\n",
       "      <td>348</td>\n",
       "      <td>1280</td>\n",
       "      <td>3662</td>\n",
       "      <td>640</td>\n",
       "      <td>115</td>\n",
       "    </tr>\n",
       "    <tr>\n",
       "      <th>2</th>\n",
       "      <td>32.73.01</td>\n",
       "      <td>Sukasari</td>\n",
       "      <td>32.73.01.1003</td>\n",
       "      <td>Isola</td>\n",
       "      <td>2412</td>\n",
       "      <td>1289</td>\n",
       "      <td>1740</td>\n",
       "      <td>1608</td>\n",
       "      <td>4073</td>\n",
       "      <td>120</td>\n",
       "      <td>502</td>\n",
       "      <td>1557</td>\n",
       "      <td>205</td>\n",
       "      <td>60</td>\n",
       "    </tr>\n",
       "    <tr>\n",
       "      <th>3</th>\n",
       "      <td>32.73.01</td>\n",
       "      <td>Sukasari</td>\n",
       "      <td>32.73.01.1004</td>\n",
       "      <td>Sarijadi</td>\n",
       "      <td>4525</td>\n",
       "      <td>2462</td>\n",
       "      <td>2137</td>\n",
       "      <td>2545</td>\n",
       "      <td>8416</td>\n",
       "      <td>380</td>\n",
       "      <td>1703</td>\n",
       "      <td>4503</td>\n",
       "      <td>633</td>\n",
       "      <td>84</td>\n",
       "    </tr>\n",
       "    <tr>\n",
       "      <th>4</th>\n",
       "      <td>32.73.02</td>\n",
       "      <td>Coblong</td>\n",
       "      <td>32.73.02.1001</td>\n",
       "      <td>Cipaganti</td>\n",
       "      <td>1820</td>\n",
       "      <td>1055</td>\n",
       "      <td>1121</td>\n",
       "      <td>1406</td>\n",
       "      <td>4494</td>\n",
       "      <td>58</td>\n",
       "      <td>399</td>\n",
       "      <td>1200</td>\n",
       "      <td>103</td>\n",
       "      <td>25</td>\n",
       "    </tr>\n",
       "    <tr>\n",
       "      <th>...</th>\n",
       "      <td>...</td>\n",
       "      <td>...</td>\n",
       "      <td>...</td>\n",
       "      <td>...</td>\n",
       "      <td>...</td>\n",
       "      <td>...</td>\n",
       "      <td>...</td>\n",
       "      <td>...</td>\n",
       "      <td>...</td>\n",
       "      <td>...</td>\n",
       "      <td>...</td>\n",
       "      <td>...</td>\n",
       "      <td>...</td>\n",
       "      <td>...</td>\n",
       "    </tr>\n",
       "    <tr>\n",
       "      <th>146</th>\n",
       "      <td>32.73.29</td>\n",
       "      <td>Cinambo</td>\n",
       "      <td>32.73.29.1004</td>\n",
       "      <td>Babakan Penghulu</td>\n",
       "      <td>1331</td>\n",
       "      <td>706</td>\n",
       "      <td>1016</td>\n",
       "      <td>1118</td>\n",
       "      <td>2092</td>\n",
       "      <td>36</td>\n",
       "      <td>221</td>\n",
       "      <td>736</td>\n",
       "      <td>121</td>\n",
       "      <td>12</td>\n",
       "    </tr>\n",
       "    <tr>\n",
       "      <th>147</th>\n",
       "      <td>32.73.30</td>\n",
       "      <td>Mandalajati</td>\n",
       "      <td>32.73.30.1001</td>\n",
       "      <td>Jatihandap</td>\n",
       "      <td>5224</td>\n",
       "      <td>2754</td>\n",
       "      <td>3382</td>\n",
       "      <td>3755</td>\n",
       "      <td>8277</td>\n",
       "      <td>98</td>\n",
       "      <td>820</td>\n",
       "      <td>2207</td>\n",
       "      <td>209</td>\n",
       "      <td>19</td>\n",
       "    </tr>\n",
       "    <tr>\n",
       "      <th>148</th>\n",
       "      <td>32.73.30</td>\n",
       "      <td>Mandalajati</td>\n",
       "      <td>32.73.30.1002</td>\n",
       "      <td>Karang Pamulang</td>\n",
       "      <td>3602</td>\n",
       "      <td>1798</td>\n",
       "      <td>2137</td>\n",
       "      <td>2645</td>\n",
       "      <td>6146</td>\n",
       "      <td>80</td>\n",
       "      <td>548</td>\n",
       "      <td>1589</td>\n",
       "      <td>149</td>\n",
       "      <td>6</td>\n",
       "    </tr>\n",
       "    <tr>\n",
       "      <th>149</th>\n",
       "      <td>32.73.30</td>\n",
       "      <td>Mandalajati</td>\n",
       "      <td>32.73.30.1003</td>\n",
       "      <td>Pasir Impun</td>\n",
       "      <td>2577</td>\n",
       "      <td>1403</td>\n",
       "      <td>1961</td>\n",
       "      <td>1942</td>\n",
       "      <td>3956</td>\n",
       "      <td>39</td>\n",
       "      <td>329</td>\n",
       "      <td>948</td>\n",
       "      <td>90</td>\n",
       "      <td>16</td>\n",
       "    </tr>\n",
       "    <tr>\n",
       "      <th>150</th>\n",
       "      <td>32.73.30</td>\n",
       "      <td>Mandalajati</td>\n",
       "      <td>32.73.30.1004</td>\n",
       "      <td>Sindang Jaya</td>\n",
       "      <td>2754</td>\n",
       "      <td>1504</td>\n",
       "      <td>1350</td>\n",
       "      <td>1922</td>\n",
       "      <td>4665</td>\n",
       "      <td>64</td>\n",
       "      <td>657</td>\n",
       "      <td>1664</td>\n",
       "      <td>216</td>\n",
       "      <td>30</td>\n",
       "    </tr>\n",
       "  </tbody>\n",
       "</table>\n",
       "<p>151 rows × 14 columns</p>\n",
       "</div>"
      ],
      "text/plain": [
       "    Kode Kecamatan    Kecamatan Kode Kelurahan         Kelurahan  \\\n",
       "0         32.73.01     Sukasari  32.73.01.1001          Sukarasa   \n",
       "1         32.73.01     Sukasari  32.73.01.1002       Gegerkalong   \n",
       "2         32.73.01     Sukasari  32.73.01.1003             Isola   \n",
       "3         32.73.01     Sukasari  32.73.01.1004          Sarijadi   \n",
       "4         32.73.02      Coblong  32.73.02.1001         Cipaganti   \n",
       "..             ...          ...            ...               ...   \n",
       "146       32.73.29      Cinambo  32.73.29.1004  Babakan Penghulu   \n",
       "147       32.73.30  Mandalajati  32.73.30.1001        Jatihandap   \n",
       "148       32.73.30  Mandalajati  32.73.30.1002   Karang Pamulang   \n",
       "149       32.73.30  Mandalajati  32.73.30.1003       Pasir Impun   \n",
       "150       32.73.30  Mandalajati  32.73.30.1004      Sindang Jaya   \n",
       "\n",
       "     Tidak/Belum Sekolah  Belum Tamat SD  Tamat SD  SLTP  SLTA  D1 dan D2  \\\n",
       "0                   2275            1173      1900  1648  3735        108   \n",
       "1                   3850            2038      2068  2450  6924        348   \n",
       "2                   2412            1289      1740  1608  4073        120   \n",
       "3                   4525            2462      2137  2545  8416        380   \n",
       "4                   1820            1055      1121  1406  4494         58   \n",
       "..                   ...             ...       ...   ...   ...        ...   \n",
       "146                 1331             706      1016  1118  2092         36   \n",
       "147                 5224            2754      3382  3755  8277         98   \n",
       "148                 3602            1798      2137  2645  6146         80   \n",
       "149                 2577            1403      1961  1942  3956         39   \n",
       "150                 2754            1504      1350  1922  4665         64   \n",
       "\n",
       "       D3    S1   S2   S3  \n",
       "0     469  1633  288   43  \n",
       "1    1280  3662  640  115  \n",
       "2     502  1557  205   60  \n",
       "3    1703  4503  633   84  \n",
       "4     399  1200  103   25  \n",
       "..    ...   ...  ...  ...  \n",
       "146   221   736  121   12  \n",
       "147   820  2207  209   19  \n",
       "148   548  1589  149    6  \n",
       "149   329   948   90   16  \n",
       "150   657  1664  216   30  \n",
       "\n",
       "[151 rows x 14 columns]"
      ]
     },
     "execution_count": 5,
     "metadata": {},
     "output_type": "execute_result"
    }
   ],
   "source": [
    "dataset"
   ]
  },
  {
   "cell_type": "code",
   "execution_count": 6,
   "id": "075d2e41",
   "metadata": {},
   "outputs": [
    {
     "name": "stdout",
     "output_type": "stream",
     "text": [
      "[['32.73.01' 'Sukasari' '32.73.01.1001' ... 469 1633 288]\n",
      " ['32.73.01' 'Sukasari' '32.73.01.1002' ... 1280 3662 640]\n",
      " ['32.73.01' 'Sukasari' '32.73.01.1003' ... 502 1557 205]\n",
      " ...\n",
      " ['32.73.30' 'Mandalajati' '32.73.30.1002' ... 548 1589 149]\n",
      " ['32.73.30' 'Mandalajati' '32.73.30.1003' ... 329 948 90]\n",
      " ['32.73.30' 'Mandalajati' '32.73.30.1004' ... 657 1664 216]]\n"
     ]
    }
   ],
   "source": [
    "print(X)"
   ]
  },
  {
   "cell_type": "code",
   "execution_count": 7,
   "id": "0a7b0993",
   "metadata": {},
   "outputs": [
    {
     "name": "stdout",
     "output_type": "stream",
     "text": [
      "[ 43 115  60  84  25  20  27 180  54   6   7  11   6  19   3   8  17   7\n",
      "   6   2  15   8   9   8   7   3  10  15  15  28  15  17  47  46  24  28\n",
      "  55  13  36  48  22  43  50  40   9   4   2   1   6   6  33  31   6  10\n",
      "  11  16  17  41   6  11  13   9   3   4   5  58  22  18   6 131  12   9\n",
      "   9  28   9  17  33  37  24   5  16  21   0  36   1   4  13   2   8  14\n",
      "  21   5   6  15   4   4   7   7  34  60  20 181  10  24  17   8  43  61\n",
      "  97  45  48   0  17  24  98  62  38  42  51  16  99  33 127  11  55  65\n",
      "  28  56  34  14  48  33  18  17  23   6  57  25  11  25  63   0  21   8\n",
      "  11   7  12  19   6  16  30]\n"
     ]
    }
   ],
   "source": [
    "print(y)"
   ]
  },
  {
   "cell_type": "code",
   "execution_count": 8,
   "id": "2e9e433a",
   "metadata": {},
   "outputs": [],
   "source": [
    "from sklearn.compose import ColumnTransformer\n",
    "from sklearn.preprocessing import OneHotEncoder\n",
    "ct = ColumnTransformer(transformers=[('encoder', OneHotEncoder(), [0])], remainder='passthrough')\n",
    "X = np.array(ct.fit_transform(X))"
   ]
  },
  {
   "cell_type": "code",
   "execution_count": 9,
   "id": "5ee23955",
   "metadata": {},
   "outputs": [
    {
     "name": "stdout",
     "output_type": "stream",
     "text": [
      "[[1.0 0.0 0.0 ... 469 1633 288]\n",
      " [1.0 0.0 0.0 ... 1280 3662 640]\n",
      " [1.0 0.0 0.0 ... 502 1557 205]\n",
      " ...\n",
      " [0.0 0.0 0.0 ... 548 1589 149]\n",
      " [0.0 0.0 0.0 ... 329 948 90]\n",
      " [0.0 0.0 0.0 ... 657 1664 216]]\n"
     ]
    }
   ],
   "source": [
    "print(X)"
   ]
  },
  {
   "cell_type": "code",
   "execution_count": 10,
   "id": "eeb8f277",
   "metadata": {},
   "outputs": [],
   "source": [
    "from sklearn.preprocessing import LabelEncoder\n",
    "le = LabelEncoder()\n",
    "y = le.fit_transform(y)"
   ]
  },
  {
   "cell_type": "code",
   "execution_count": 11,
   "id": "e1ba6b12",
   "metadata": {},
   "outputs": [
    {
     "name": "stdout",
     "output_type": "stream",
     "text": [
      "[38 59 50 55 25 20 26 62 45  6  7 11  6 19  3  8 17  7  6  2 15  8  9  8\n",
      "  7  3 10 15 15 27 15 17 41 40 24 27 46 13 32 42 22 38 43 35  9  4  2  1\n",
      "  6  6 30 29  6 10 11 16 17 36  6 11 13  9  3  4  5 49 22 18  6 61 12  9\n",
      "  9 27  9 17 30 33 24  5 16 21  0 32  1  4 13  2  8 14 21  5  6 15  4  4\n",
      "  7  7 31 50 20 63 10 24 17  8 38 51 56 39 42  0 17 24 57 52 34 37 44 16\n",
      " 58 30 60 11 46 54 27 47 31 14 42 30 18 17 23  6 48 25 11 25 53  0 21  8\n",
      " 11  7 12 19  6 16 28]\n"
     ]
    }
   ],
   "source": [
    "print(y)"
   ]
  },
  {
   "cell_type": "code",
   "execution_count": 12,
   "id": "3aafa909",
   "metadata": {},
   "outputs": [],
   "source": [
    "from sklearn.model_selection import train_test_split\n",
    "X_train, X_test, y_train, y_test = train_test_split(X, y, test_size = 0.2, random_state = 1)"
   ]
  },
  {
   "cell_type": "code",
   "execution_count": 13,
   "id": "7613a07f",
   "metadata": {},
   "outputs": [
    {
     "name": "stdout",
     "output_type": "stream",
     "text": [
      "[[0.0 0.0 0.0 ... 167 438 40]\n",
      " [0.0 0.0 0.0 ... 1012 3869 860]\n",
      " [0.0 0.0 0.0 ... 371 1130 137]\n",
      " ...\n",
      " [0.0 0.0 0.0 ... 589 1398 117]\n",
      " [0.0 0.0 0.0 ... 1007 3165 367]\n",
      " [0.0 0.0 0.0 ... 792 1562 137]]\n"
     ]
    }
   ],
   "source": [
    "print(X_train)"
   ]
  },
  {
   "cell_type": "code",
   "execution_count": 14,
   "id": "022e4602",
   "metadata": {},
   "outputs": [
    {
     "name": "stdout",
     "output_type": "stream",
     "text": [
      "[[0.0 0.0 1.0 ... 196 573 47]\n",
      " [0.0 0.0 0.0 ... 637 1645 192]\n",
      " [0.0 0.0 0.0 ... 620 1478 108]\n",
      " ...\n",
      " [0.0 0.0 0.0 ... 878 2080 203]\n",
      " [0.0 0.0 0.0 ... 820 2207 209]\n",
      " [0.0 0.0 0.0 ... 405 1029 59]]\n"
     ]
    }
   ],
   "source": [
    "print(X_test)"
   ]
  },
  {
   "cell_type": "code",
   "execution_count": 15,
   "id": "a802d7c3",
   "metadata": {},
   "outputs": [
    {
     "name": "stdout",
     "output_type": "stream",
     "text": [
      "[ 6 61 31 57  6 10 15 11 56 17  7 16 24  6 44  6 25  4 11 42 46 37 25 51\n",
      " 18 27  4 60  4 11 24 11  6 50 17 26 47 42 49 16  7 11  2  3  9 34 15 20\n",
      " 14  7 24 41 46 32 32  0 28 15  8 18  6 42  7  8 12  2 16 39  5  8  0 38\n",
      " 16  6 10 30 35  7 48 30  8  6  8 12 55 21 15  6 38  1 52 19  8 45 21 13\n",
      " 38 59 36  9  9  4 62 13  7  6 30 63 15  3 23  9 14 11  5 17 25  9 53 13]\n"
     ]
    }
   ],
   "source": [
    "print(y_train)"
   ]
  },
  {
   "cell_type": "code",
   "execution_count": 16,
   "id": "70b4080e",
   "metadata": {},
   "outputs": [
    {
     "name": "stdout",
     "output_type": "stream",
     "text": [
      "[ 3 31 17 17 30 17  0  9 27 58  4 20 10 29 24 43  6 22 17 27 21  1 33 22\n",
      " 54 50 40  2 27 19  5]\n"
     ]
    }
   ],
   "source": [
    "print(y_test)"
   ]
  },
  {
   "cell_type": "code",
   "execution_count": 17,
   "id": "69a59fbf",
   "metadata": {},
   "outputs": [],
   "source": [
    "from sklearn.preprocessing import StandardScaler as SS\n",
    "sc = SS()\n",
    "X_train[:, -1:] = sc.fit_transform(X_train[:, -1:])\n",
    "X_test[:, -1:] = sc.transform(X_test[:, -1:])"
   ]
  },
  {
   "cell_type": "code",
   "execution_count": 18,
   "id": "9de51f02",
   "metadata": {},
   "outputs": [
    {
     "name": "stdout",
     "output_type": "stream",
     "text": [
      "[[1.0 0.0 0.0 ... 469 1633 288]\n",
      " [1.0 0.0 0.0 ... 1280 3662 640]\n",
      " [1.0 0.0 0.0 ... 502 1557 205]\n",
      " ...\n",
      " [0.0 0.0 0.0 ... 548 1589 149]\n",
      " [0.0 0.0 0.0 ... 329 948 90]\n",
      " [0.0 0.0 0.0 ... 657 1664 216]]\n"
     ]
    }
   ],
   "source": [
    "print(X)"
   ]
  },
  {
   "cell_type": "code",
   "execution_count": 19,
   "id": "62aa2e84",
   "metadata": {},
   "outputs": [
    {
     "name": "stdout",
     "output_type": "stream",
     "text": [
      "[[0.0 0.0 1.0 ... 196 573 -0.805899226513128]\n",
      " [0.0 0.0 0.0 ... 637 1645 -0.0595373710027795]\n",
      " [0.0 0.0 0.0 ... 620 1478 -0.4919125148846365]\n",
      " ...\n",
      " [0.0 0.0 0.0 ... 878 2080 -0.0029168164468220317]\n",
      " [0.0 0.0 0.0 ... 820 2207 0.027967122401882042]\n",
      " [0.0 0.0 0.0 ... 405 1029 -0.7441313488157197]]\n"
     ]
    }
   ],
   "source": [
    "print(X_test)"
   ]
  },
  {
   "cell_type": "code",
   "execution_count": null,
   "id": "b1e2a2f6",
   "metadata": {},
   "outputs": [],
   "source": []
  }
 ],
 "metadata": {
  "kernelspec": {
   "display_name": "Python 3 (ipykernel)",
   "language": "python",
   "name": "python3"
  },
  "language_info": {
   "codemirror_mode": {
    "name": "ipython",
    "version": 3
   },
   "file_extension": ".py",
   "mimetype": "text/x-python",
   "name": "python",
   "nbconvert_exporter": "python",
   "pygments_lexer": "ipython3",
   "version": "3.10.2"
  }
 },
 "nbformat": 4,
 "nbformat_minor": 5
}
